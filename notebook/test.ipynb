{
 "cells": [
  {
   "cell_type": "code",
   "execution_count": 1,
   "metadata": {},
   "outputs": [
    {
     "ename": "ModuleNotFoundError",
     "evalue": "No module named 'ml_recorder'",
     "output_type": "error",
     "traceback": [
      "\u001b[0;31m---------------------------------------------------------------------------\u001b[0m",
      "\u001b[0;31mModuleNotFoundError\u001b[0m                       Traceback (most recent call last)",
      "\u001b[0;32m<ipython-input-1-c03c4a341918>\u001b[0m in \u001b[0;36m<module>\u001b[0;34m\u001b[0m\n\u001b[1;32m      1\u001b[0m \u001b[0;32mimport\u001b[0m \u001b[0mnumpy\u001b[0m \u001b[0;32mas\u001b[0m \u001b[0mnp\u001b[0m\u001b[0;34m\u001b[0m\u001b[0;34m\u001b[0m\u001b[0m\n\u001b[1;32m      2\u001b[0m \u001b[0;32mimport\u001b[0m \u001b[0mpandas\u001b[0m \u001b[0;32mas\u001b[0m \u001b[0mpd\u001b[0m\u001b[0;34m\u001b[0m\u001b[0;34m\u001b[0m\u001b[0m\n\u001b[0;32m----> 3\u001b[0;31m \u001b[0;32mimport\u001b[0m \u001b[0mml_recorder\u001b[0m\u001b[0;34m\u001b[0m\u001b[0;34m\u001b[0m\u001b[0m\n\u001b[0m\u001b[1;32m      4\u001b[0m \u001b[0;32mimport\u001b[0m \u001b[0mrandom\u001b[0m\u001b[0;34m\u001b[0m\u001b[0;34m\u001b[0m\u001b[0m\n\u001b[1;32m      5\u001b[0m \u001b[0;32mimport\u001b[0m \u001b[0mtime\u001b[0m\u001b[0;34m\u001b[0m\u001b[0;34m\u001b[0m\u001b[0m\n",
      "\u001b[0;31mModuleNotFoundError\u001b[0m: No module named 'ml_recorder'"
     ]
    }
   ],
   "source": [
    "import numpy as np\n",
    "import pandas as pd\n",
    "import ml_recorder\n",
    "import random\n",
    "import time"
   ]
  },
  {
   "cell_type": "code",
   "execution_count": 2,
   "metadata": {},
   "outputs": [],
   "source": [
    "rec = ml_recorder.Recorder('outputs')\n",
    "\n",
    "for t in range(100):\n",
    "    score = random.random()\n",
    "    rec.store({'score': score})\n",
    "    rec.summary()\n",
    "    time.sleep(0.1)"
   ]
  },
  {
   "cell_type": "code",
   "execution_count": 3,
   "metadata": {},
   "outputs": [],
   "source": [
    "df = rec.get_progress()"
   ]
  },
  {
   "cell_type": "code",
   "execution_count": 5,
   "metadata": {},
   "outputs": [
    {
     "data": {
      "text/html": [
       "<div>\n",
       "<style scoped>\n",
       "    .dataframe tbody tr th:only-of-type {\n",
       "        vertical-align: middle;\n",
       "    }\n",
       "\n",
       "    .dataframe tbody tr th {\n",
       "        vertical-align: top;\n",
       "    }\n",
       "\n",
       "    .dataframe thead th {\n",
       "        text-align: right;\n",
       "    }\n",
       "</style>\n",
       "<table border=\"1\" class=\"dataframe\">\n",
       "  <thead>\n",
       "    <tr style=\"text-align: right;\">\n",
       "      <th></th>\n",
       "      <th>score</th>\n",
       "      <th>time</th>\n",
       "      <th>elapsed_time</th>\n",
       "    </tr>\n",
       "  </thead>\n",
       "  <tbody>\n",
       "    <tr>\n",
       "      <th>0</th>\n",
       "      <td>0.672968</td>\n",
       "      <td>1900-01-24 15:01:36</td>\n",
       "      <td>00:00:00</td>\n",
       "    </tr>\n",
       "    <tr>\n",
       "      <th>1</th>\n",
       "      <td>0.511332</td>\n",
       "      <td>1900-01-24 15:01:36</td>\n",
       "      <td>00:00:00</td>\n",
       "    </tr>\n",
       "    <tr>\n",
       "      <th>2</th>\n",
       "      <td>0.438545</td>\n",
       "      <td>1900-01-24 15:01:36</td>\n",
       "      <td>00:00:00</td>\n",
       "    </tr>\n",
       "    <tr>\n",
       "      <th>3</th>\n",
       "      <td>0.007727</td>\n",
       "      <td>1900-01-24 15:01:36</td>\n",
       "      <td>00:00:00</td>\n",
       "    </tr>\n",
       "    <tr>\n",
       "      <th>4</th>\n",
       "      <td>0.616767</td>\n",
       "      <td>1900-01-24 15:01:36</td>\n",
       "      <td>00:00:00</td>\n",
       "    </tr>\n",
       "    <tr>\n",
       "      <th>...</th>\n",
       "      <td>...</td>\n",
       "      <td>...</td>\n",
       "      <td>...</td>\n",
       "    </tr>\n",
       "    <tr>\n",
       "      <th>95</th>\n",
       "      <td>0.133709</td>\n",
       "      <td>1900-01-24 15:01:46</td>\n",
       "      <td>00:00:10</td>\n",
       "    </tr>\n",
       "    <tr>\n",
       "      <th>96</th>\n",
       "      <td>0.556404</td>\n",
       "      <td>1900-01-24 15:01:46</td>\n",
       "      <td>00:00:10</td>\n",
       "    </tr>\n",
       "    <tr>\n",
       "      <th>97</th>\n",
       "      <td>0.039914</td>\n",
       "      <td>1900-01-24 15:01:46</td>\n",
       "      <td>00:00:10</td>\n",
       "    </tr>\n",
       "    <tr>\n",
       "      <th>98</th>\n",
       "      <td>0.972342</td>\n",
       "      <td>1900-01-24 15:01:46</td>\n",
       "      <td>00:00:10</td>\n",
       "    </tr>\n",
       "    <tr>\n",
       "      <th>99</th>\n",
       "      <td>0.816162</td>\n",
       "      <td>1900-01-24 15:01:46</td>\n",
       "      <td>00:00:10</td>\n",
       "    </tr>\n",
       "  </tbody>\n",
       "</table>\n",
       "<p>100 rows × 3 columns</p>\n",
       "</div>"
      ],
      "text/plain": [
       "       score                time elapsed_time\n",
       "0   0.672968 1900-01-24 15:01:36     00:00:00\n",
       "1   0.511332 1900-01-24 15:01:36     00:00:00\n",
       "2   0.438545 1900-01-24 15:01:36     00:00:00\n",
       "3   0.007727 1900-01-24 15:01:36     00:00:00\n",
       "4   0.616767 1900-01-24 15:01:36     00:00:00\n",
       "..       ...                 ...          ...\n",
       "95  0.133709 1900-01-24 15:01:46     00:00:10\n",
       "96  0.556404 1900-01-24 15:01:46     00:00:10\n",
       "97  0.039914 1900-01-24 15:01:46     00:00:10\n",
       "98  0.972342 1900-01-24 15:01:46     00:00:10\n",
       "99  0.816162 1900-01-24 15:01:46     00:00:10\n",
       "\n",
       "[100 rows x 3 columns]"
      ]
     },
     "execution_count": 5,
     "metadata": {},
     "output_type": "execute_result"
    }
   ],
   "source": [
    "df"
   ]
  },
  {
   "cell_type": "code",
   "execution_count": 6,
   "metadata": {},
   "outputs": [
    {
     "data": {
      "text/plain": [
       "0    1900-01-24 15:01:36\n",
       "1    1900-01-24 15:01:36\n",
       "2    1900-01-24 15:01:36\n",
       "3    1900-01-24 15:01:36\n",
       "4    1900-01-24 15:01:36\n",
       "             ...        \n",
       "95   1900-01-24 15:01:46\n",
       "96   1900-01-24 15:01:46\n",
       "97   1900-01-24 15:01:46\n",
       "98   1900-01-24 15:01:46\n",
       "99   1900-01-24 15:01:46\n",
       "Name: time, Length: 100, dtype: datetime64[ns]"
      ]
     },
     "execution_count": 6,
     "metadata": {},
     "output_type": "execute_result"
    }
   ],
   "source": [
    "df.time"
   ]
  },
  {
   "cell_type": "code",
   "execution_count": 7,
   "metadata": {},
   "outputs": [],
   "source": [
    "t = pd.to_datetime(df.time, format='%d, %H, %M, %S')"
   ]
  },
  {
   "cell_type": "code",
   "execution_count": 8,
   "metadata": {},
   "outputs": [
    {
     "data": {
      "text/plain": [
       "0    1900-01-24 15:01:36\n",
       "1    1900-01-24 15:01:36\n",
       "2    1900-01-24 15:01:36\n",
       "3    1900-01-24 15:01:36\n",
       "4    1900-01-24 15:01:36\n",
       "             ...        \n",
       "95   1900-01-24 15:01:46\n",
       "96   1900-01-24 15:01:46\n",
       "97   1900-01-24 15:01:46\n",
       "98   1900-01-24 15:01:46\n",
       "99   1900-01-24 15:01:46\n",
       "Name: time, Length: 100, dtype: datetime64[ns]"
      ]
     },
     "execution_count": 8,
     "metadata": {},
     "output_type": "execute_result"
    }
   ],
   "source": [
    "t"
   ]
  },
  {
   "cell_type": "code",
   "execution_count": 9,
   "metadata": {},
   "outputs": [],
   "source": [
    "start = t[0]"
   ]
  },
  {
   "cell_type": "code",
   "execution_count": 24,
   "metadata": {},
   "outputs": [],
   "source": [
    "df['elapsed_time'] = t - start"
   ]
  },
  {
   "cell_type": "code",
   "execution_count": 25,
   "metadata": {},
   "outputs": [
    {
     "data": {
      "text/html": [
       "<div>\n",
       "<style scoped>\n",
       "    .dataframe tbody tr th:only-of-type {\n",
       "        vertical-align: middle;\n",
       "    }\n",
       "\n",
       "    .dataframe tbody tr th {\n",
       "        vertical-align: top;\n",
       "    }\n",
       "\n",
       "    .dataframe thead th {\n",
       "        text-align: right;\n",
       "    }\n",
       "</style>\n",
       "<table border=\"1\" class=\"dataframe\">\n",
       "  <thead>\n",
       "    <tr style=\"text-align: right;\">\n",
       "      <th></th>\n",
       "      <th>score</th>\n",
       "      <th>time</th>\n",
       "      <th>elapsed_time</th>\n",
       "    </tr>\n",
       "  </thead>\n",
       "  <tbody>\n",
       "    <tr>\n",
       "      <th>0</th>\n",
       "      <td>0.671361</td>\n",
       "      <td>24, 14, 02, 55</td>\n",
       "      <td>00:00:00</td>\n",
       "    </tr>\n",
       "    <tr>\n",
       "      <th>1</th>\n",
       "      <td>0.919380</td>\n",
       "      <td>24, 14, 02, 56</td>\n",
       "      <td>00:00:01</td>\n",
       "    </tr>\n",
       "    <tr>\n",
       "      <th>2</th>\n",
       "      <td>0.920783</td>\n",
       "      <td>24, 14, 02, 56</td>\n",
       "      <td>00:00:01</td>\n",
       "    </tr>\n",
       "    <tr>\n",
       "      <th>3</th>\n",
       "      <td>0.716431</td>\n",
       "      <td>24, 14, 02, 56</td>\n",
       "      <td>00:00:01</td>\n",
       "    </tr>\n",
       "    <tr>\n",
       "      <th>4</th>\n",
       "      <td>0.003063</td>\n",
       "      <td>24, 14, 02, 56</td>\n",
       "      <td>00:00:01</td>\n",
       "    </tr>\n",
       "    <tr>\n",
       "      <th>...</th>\n",
       "      <td>...</td>\n",
       "      <td>...</td>\n",
       "      <td>...</td>\n",
       "    </tr>\n",
       "    <tr>\n",
       "      <th>95</th>\n",
       "      <td>0.814832</td>\n",
       "      <td>24, 14, 03, 05</td>\n",
       "      <td>00:00:10</td>\n",
       "    </tr>\n",
       "    <tr>\n",
       "      <th>96</th>\n",
       "      <td>0.831143</td>\n",
       "      <td>24, 14, 03, 05</td>\n",
       "      <td>00:00:10</td>\n",
       "    </tr>\n",
       "    <tr>\n",
       "      <th>97</th>\n",
       "      <td>0.203155</td>\n",
       "      <td>24, 14, 03, 05</td>\n",
       "      <td>00:00:10</td>\n",
       "    </tr>\n",
       "    <tr>\n",
       "      <th>98</th>\n",
       "      <td>0.645256</td>\n",
       "      <td>24, 14, 03, 05</td>\n",
       "      <td>00:00:10</td>\n",
       "    </tr>\n",
       "    <tr>\n",
       "      <th>99</th>\n",
       "      <td>0.880112</td>\n",
       "      <td>24, 14, 03, 05</td>\n",
       "      <td>00:00:10</td>\n",
       "    </tr>\n",
       "  </tbody>\n",
       "</table>\n",
       "<p>100 rows × 3 columns</p>\n",
       "</div>"
      ],
      "text/plain": [
       "       score            time elapsed_time\n",
       "0   0.671361  24, 14, 02, 55     00:00:00\n",
       "1   0.919380  24, 14, 02, 56     00:00:01\n",
       "2   0.920783  24, 14, 02, 56     00:00:01\n",
       "3   0.716431  24, 14, 02, 56     00:00:01\n",
       "4   0.003063  24, 14, 02, 56     00:00:01\n",
       "..       ...             ...          ...\n",
       "95  0.814832  24, 14, 03, 05     00:00:10\n",
       "96  0.831143  24, 14, 03, 05     00:00:10\n",
       "97  0.203155  24, 14, 03, 05     00:00:10\n",
       "98  0.645256  24, 14, 03, 05     00:00:10\n",
       "99  0.880112  24, 14, 03, 05     00:00:10\n",
       "\n",
       "[100 rows x 3 columns]"
      ]
     },
     "execution_count": 25,
     "metadata": {},
     "output_type": "execute_result"
    }
   ],
   "source": [
    "df"
   ]
  },
  {
   "cell_type": "code",
   "execution_count": null,
   "metadata": {},
   "outputs": [],
   "source": []
  }
 ],
 "metadata": {
  "kernelspec": {
   "display_name": "py38",
   "language": "python",
   "name": "py38"
  },
  "language_info": {
   "codemirror_mode": {
    "name": "ipython",
    "version": 3
   },
   "file_extension": ".py",
   "mimetype": "text/x-python",
   "name": "python",
   "nbconvert_exporter": "python",
   "pygments_lexer": "ipython3",
   "version": "3.8.2"
  }
 },
 "nbformat": 4,
 "nbformat_minor": 4
}
